{
 "cells": [
  {
   "cell_type": "markdown",
   "id": "bf5e425c",
   "metadata": {},
   "source": [
    "# 0. libs and data import"
   ]
  },
  {
   "cell_type": "code",
   "execution_count": null,
   "id": "5f11dd05",
   "metadata": {},
   "outputs": [],
   "source": [
    "!pip install -r requirements.txt"
   ]
  },
  {
   "cell_type": "code",
   "execution_count": null,
   "id": "7224236d",
   "metadata": {},
   "outputs": [],
   "source": [
    "import pandas as pd\n",
    "import  folium\n",
    "from folium.plugins import HeatMap"
   ]
  },
  {
   "cell_type": "code",
   "execution_count": null,
   "id": "2cd600a3",
   "metadata": {},
   "outputs": [],
   "source": [
    "from matplotlib import pyplot as plt\n",
    "plt.style.use('ggplot')"
   ]
  },
  {
   "cell_type": "code",
   "execution_count": null,
   "id": "1a587a8c",
   "metadata": {},
   "outputs": [],
   "source": [
    "import seaborn as sns"
   ]
  },
  {
   "cell_type": "markdown",
   "id": "15fcf7a1",
   "metadata": {},
   "source": [
    "### coords for all locations"
   ]
  },
  {
   "cell_type": "code",
   "execution_count": null,
   "id": "447dd199",
   "metadata": {},
   "outputs": [],
   "source": [
    "geodata = pd.read_json('../geodata/geo-coordinates-clean.json')"
   ]
  },
  {
   "cell_type": "code",
   "execution_count": null,
   "id": "50b18c83",
   "metadata": {},
   "outputs": [],
   "source": [
    "geodata = geodata.T"
   ]
  },
  {
   "cell_type": "code",
   "execution_count": null,
   "id": "214baa13",
   "metadata": {},
   "outputs": [],
   "source": [
    "geodata.columns = ['lat', 'long']"
   ]
  },
  {
   "cell_type": "code",
   "execution_count": null,
   "id": "cc8138a8",
   "metadata": {},
   "outputs": [],
   "source": [
    "geodata"
   ]
  },
  {
   "cell_type": "markdown",
   "id": "1ddcad7b",
   "metadata": {},
   "source": [
    "### freqs for romanticism"
   ]
  },
  {
   "cell_type": "code",
   "execution_count": null,
   "id": "40440fd8",
   "metadata": {},
   "outputs": [],
   "source": [
    "romfreq = pd.read_csv('../geodata/romantism-locations-freqs.tsv', sep='\\t', \n",
    "                      header=None, \n",
    "                      names=('location', 'frequency'))\n",
    "romfreq.head(10)"
   ]
  },
  {
   "cell_type": "code",
   "execution_count": null,
   "id": "8f7c05a9",
   "metadata": {},
   "outputs": [],
   "source": [
    "romfreq = romfreq.set_index('location', drop=False)\n"
   ]
  },
  {
   "cell_type": "markdown",
   "id": "fe382c1e",
   "metadata": {},
   "source": [
    "### freqs for realism"
   ]
  },
  {
   "cell_type": "code",
   "execution_count": null,
   "id": "9047427a",
   "metadata": {},
   "outputs": [],
   "source": [
    "realfreq = pd.read_csv('../geodata/realism-locations-freqs.tsv', sep='\\t', \n",
    "                      header=None, \n",
    "                      names=('location', 'frequency'))"
   ]
  },
  {
   "cell_type": "code",
   "execution_count": null,
   "id": "c73a8c04",
   "metadata": {},
   "outputs": [],
   "source": [
    "realfreq = realfreq.set_index('location', drop=False)"
   ]
  },
  {
   "cell_type": "markdown",
   "id": "894f7191",
   "metadata": {},
   "source": [
    "## 1. Combine GeoData with freqs"
   ]
  },
  {
   "cell_type": "markdown",
   "id": "6d4045ba",
   "metadata": {},
   "source": [
    "### romanticism"
   ]
  },
  {
   "cell_type": "code",
   "execution_count": null,
   "id": "14e77f18",
   "metadata": {},
   "outputs": [],
   "source": [
    "geodata_w_rom_freq = pd.merge(geodata, romfreq, left_index=True, right_index=True)\n",
    "geodata_w_rom_freq.head(15)"
   ]
  },
  {
   "cell_type": "markdown",
   "id": "99d18c90",
   "metadata": {},
   "source": [
    "### realism"
   ]
  },
  {
   "cell_type": "code",
   "execution_count": null,
   "id": "064dbf19",
   "metadata": {},
   "outputs": [],
   "source": [
    "geodata_w_real_freq = pd.merge(geodata, realfreq, left_index=True, right_index=True)\n",
    "geodata_w_real_freq.head(15)"
   ]
  },
  {
   "cell_type": "markdown",
   "id": "608f2c9d",
   "metadata": {},
   "source": [
    "## 2. Merge data by coordinates "
   ]
  },
  {
   "cell_type": "markdown",
   "id": "8dafdd03",
   "metadata": {},
   "source": [
    "If we look at this data:"
   ]
  },
  {
   "cell_type": "code",
   "execution_count": null,
   "id": "be608546",
   "metadata": {},
   "outputs": [],
   "source": [
    "geodata_w_rom_freq"
   ]
  },
  {
   "cell_type": "markdown",
   "id": "e1de0b4b",
   "metadata": {},
   "source": [
    "There is an issue with duplicate toponyms, e.g:"
   ]
  },
  {
   "cell_type": "code",
   "execution_count": null,
   "id": "57004919",
   "metadata": {},
   "outputs": [],
   "source": [
    "geodata_w_rom_freq.query('location.str.contains(\"Гатч\")')"
   ]
  },
  {
   "cell_type": "markdown",
   "id": "f376721d",
   "metadata": {},
   "source": [
    "We'll want te merge them by identical coords for barplots, aggregated map bubbles and such."
   ]
  },
  {
   "cell_type": "code",
   "execution_count": null,
   "id": "a259220b",
   "metadata": {},
   "outputs": [],
   "source": [
    "## to group them by identical coords lets create a unified field:\n",
    "\n",
    "geodata_w_rom_freq['lat_long'] = geodata_w_rom_freq['lat'].astype(str) + '_' + geodata_w_rom_freq['long'].astype(str)\n",
    "geodata_w_rom_freq['lat_long']"
   ]
  },
  {
   "cell_type": "code",
   "execution_count": null,
   "id": "d36c9334",
   "metadata": {},
   "outputs": [],
   "source": [
    "geodata_w_rom_freq.query('lat_long==\"59.56841_30.122892\"')"
   ]
  },
  {
   "cell_type": "markdown",
   "id": "2ae7177b",
   "metadata": {},
   "source": [
    "it works"
   ]
  },
  {
   "cell_type": "code",
   "execution_count": null,
   "id": "b263b03c",
   "metadata": {},
   "outputs": [],
   "source": [
    "rom_grouped_with_freq_sums = geodata_w_rom_freq.groupby('lat_long').sum()\n",
    "rom_grouped_with_freq_sums"
   ]
  },
  {
   "cell_type": "code",
   "execution_count": null,
   "id": "c40700ea",
   "metadata": {},
   "outputs": [],
   "source": [
    "rom_grouped_with_freq_sums['lat_long'] = rom_grouped_with_freq_sums.index"
   ]
  },
  {
   "cell_type": "code",
   "execution_count": null,
   "id": "696ce8d7",
   "metadata": {},
   "outputs": [],
   "source": [
    "rom_grouped_with_freq_sums"
   ]
  },
  {
   "cell_type": "markdown",
   "id": "db636548",
   "metadata": {},
   "source": [
    "If everything worked, this should be four:"
   ]
  },
  {
   "cell_type": "code",
   "execution_count": null,
   "id": "966af285",
   "metadata": {},
   "outputs": [],
   "source": [
    "rom_grouped_with_freq_sums.loc[\"59.56841_30.122892\", :]['frequency']"
   ]
  },
  {
   "cell_type": "markdown",
   "id": "9191e827",
   "metadata": {},
   "source": [
    "Yess"
   ]
  },
  {
   "cell_type": "markdown",
   "id": "d39558a9",
   "metadata": {},
   "source": [
    "Now let us get back the names"
   ]
  },
  {
   "cell_type": "code",
   "execution_count": null,
   "id": "56593e1b",
   "metadata": {},
   "outputs": [],
   "source": [
    "def get_loc_names_by_latlon(latlon, refdf):\n",
    "    res = refdf.query(f'lat_long==\"{latlon}\"')\n",
    "    return res['location'].sum() # returns concatenation of all location strings e.g. \"ГатчинуГатчине\""
   ]
  },
  {
   "cell_type": "code",
   "execution_count": null,
   "id": "22998218",
   "metadata": {},
   "outputs": [],
   "source": [
    "get_loc_names_by_latlon(\"59.56841_30.122892\",refdf=geodata_w_rom_freq)"
   ]
  },
  {
   "cell_type": "code",
   "execution_count": null,
   "id": "17cc4a31",
   "metadata": {},
   "outputs": [],
   "source": [
    "## chose this option\n",
    "def get_loc_most_frequent_name_by_latlon(latlon, refdf):\n",
    "    res = refdf.query(f'lat_long==\"{latlon}\"')\n",
    "    res = res.sort_values(by='frequency', ascending=False)\n",
    "    return res['location'][0] "
   ]
  },
  {
   "cell_type": "code",
   "execution_count": null,
   "id": "b2fd6e5d",
   "metadata": {},
   "outputs": [],
   "source": [
    "get_loc_most_frequent_name_by_latlon(\"59.56841_30.122892\",refdf=geodata_w_rom_freq)"
   ]
  },
  {
   "cell_type": "code",
   "execution_count": null,
   "id": "85563636",
   "metadata": {},
   "outputs": [],
   "source": [
    "rom_grouped_with_freq_sums['label'] = rom_grouped_with_freq_sums['lat_long'].apply(get_loc_most_frequent_name_by_latlon, \n",
    "                                                                                   refdf=geodata_w_rom_freq)"
   ]
  },
  {
   "cell_type": "code",
   "execution_count": null,
   "id": "2ea6a089",
   "metadata": {},
   "outputs": [],
   "source": [
    "rom_grouped_with_freq_sums"
   ]
  },
  {
   "cell_type": "markdown",
   "id": "0c2913ec",
   "metadata": {},
   "source": [
    "The coords in the grouped df broke because of the use of `.sum` as aggregation function (which we had to use to add frequencies of different variants of the same location. SO let's fix them:"
   ]
  },
  {
   "cell_type": "code",
   "execution_count": null,
   "id": "bdcfef5c",
   "metadata": {},
   "outputs": [],
   "source": [
    "def get_true_lat_by_latlon(latlon):\n",
    "    return latlon.split('_')[0]"
   ]
  },
  {
   "cell_type": "code",
   "execution_count": null,
   "id": "3aba80e4",
   "metadata": {},
   "outputs": [],
   "source": [
    "def get_true_lon_by_latlon(latlon):\n",
    "    return latlon.split('_')[1]"
   ]
  },
  {
   "cell_type": "code",
   "execution_count": null,
   "id": "fb62d277",
   "metadata": {},
   "outputs": [],
   "source": [
    "rom_grouped_with_freq_sums['lat'] = rom_grouped_with_freq_sums['lat_long'].apply(get_true_lat_by_latlon)"
   ]
  },
  {
   "cell_type": "code",
   "execution_count": null,
   "id": "88be4a3a",
   "metadata": {},
   "outputs": [],
   "source": [
    "rom_grouped_with_freq_sums['long'] = rom_grouped_with_freq_sums['lat_long'].apply(get_true_lon_by_latlon)"
   ]
  },
  {
   "cell_type": "code",
   "execution_count": null,
   "id": "5d33f92c",
   "metadata": {
    "scrolled": true
   },
   "outputs": [],
   "source": [
    "rom_grouped_with_freq_sums"
   ]
  },
  {
   "cell_type": "code",
   "execution_count": null,
   "id": "8cb246d2",
   "metadata": {},
   "outputs": [],
   "source": [
    "rom_grouped_with_freq_sums.to_csv('aggregated_rom_locs.csv')"
   ]
  },
  {
   "cell_type": "markdown",
   "id": "11025e44",
   "metadata": {},
   "source": [
    "#### now same for realism"
   ]
  },
  {
   "cell_type": "code",
   "execution_count": null,
   "id": "9c69d6a7",
   "metadata": {},
   "outputs": [],
   "source": [
    "geodata_w_real_freq"
   ]
  },
  {
   "cell_type": "code",
   "execution_count": null,
   "id": "007d866d",
   "metadata": {},
   "outputs": [],
   "source": [
    "geodata_w_real_freq.query('location.str.contains(\"Гатч\")').sort_values(by='frequency', ascending=False)"
   ]
  },
  {
   "cell_type": "code",
   "execution_count": null,
   "id": "a1277845",
   "metadata": {},
   "outputs": [],
   "source": [
    "\n",
    "geodata_w_real_freq['lat_long'] = geodata_w_real_freq['lat'].astype(str) + '_' + geodata_w_real_freq['long'].astype(str)\n",
    "geodata_w_real_freq['lat_long']"
   ]
  },
  {
   "cell_type": "code",
   "execution_count": null,
   "id": "efa6ab2e",
   "metadata": {},
   "outputs": [],
   "source": [
    "real_grouped_with_freq_sums = geodata_w_real_freq.groupby('lat_long').sum()\n",
    "real_grouped_with_freq_sums"
   ]
  },
  {
   "cell_type": "code",
   "execution_count": null,
   "id": "8232932a",
   "metadata": {},
   "outputs": [],
   "source": [
    "real_grouped_with_freq_sums['lat_long'] = real_grouped_with_freq_sums.index"
   ]
  },
  {
   "cell_type": "markdown",
   "id": "cf1b0177",
   "metadata": {},
   "source": [
    "This should be much more, as there is much more Gatchina in the romanticism: "
   ]
  },
  {
   "cell_type": "code",
   "execution_count": null,
   "id": "5a2a1fc5",
   "metadata": {},
   "outputs": [],
   "source": [
    "real_grouped_with_freq_sums.loc[\"59.56841_30.122892\", :]['frequency']"
   ]
  },
  {
   "cell_type": "code",
   "execution_count": null,
   "id": "3c18542b",
   "metadata": {},
   "outputs": [],
   "source": [
    "real_grouped_with_freq_sums['label'] = real_grouped_with_freq_sums['lat_long'].apply(get_loc_most_frequent_name_by_latlon, \n",
    "                                                                                   refdf=geodata_w_real_freq)"
   ]
  },
  {
   "cell_type": "code",
   "execution_count": null,
   "id": "40b3fd13",
   "metadata": {},
   "outputs": [],
   "source": [
    "real_grouped_with_freq_sums['lat'] = real_grouped_with_freq_sums['lat_long'].apply(get_true_lat_by_latlon)"
   ]
  },
  {
   "cell_type": "code",
   "execution_count": null,
   "id": "6c627c59",
   "metadata": {},
   "outputs": [],
   "source": [
    "real_grouped_with_freq_sums['long'] = real_grouped_with_freq_sums['lat_long'].apply(get_true_lon_by_latlon)"
   ]
  },
  {
   "cell_type": "code",
   "execution_count": null,
   "id": "0c5280a5",
   "metadata": {
    "scrolled": true
   },
   "outputs": [],
   "source": [
    "real_grouped_with_freq_sums"
   ]
  },
  {
   "cell_type": "code",
   "execution_count": null,
   "id": "d04f80bf",
   "metadata": {},
   "outputs": [],
   "source": [
    "real_grouped_with_freq_sums.to_csv('aggregated_real_locs.csv')"
   ]
  },
  {
   "cell_type": "code",
   "execution_count": null,
   "id": "ff77866c",
   "metadata": {},
   "outputs": [],
   "source": [
    "real_grouped_with_freq_sums"
   ]
  },
  {
   "cell_type": "markdown",
   "id": "54a6a6a0",
   "metadata": {},
   "source": [
    "### 3. Plot most frequent merged locations"
   ]
  },
  {
   "cell_type": "code",
   "execution_count": null,
   "id": "a79cb152",
   "metadata": {
    "scrolled": false
   },
   "outputs": [],
   "source": [
    "rom_grouped_with_freq_sums.sort_values(by='frequency')[-30:].plot.barh(y='frequency', x='label', \n",
    "                                                                        title='top romanticist locations')\n",
    "ax = plt.gca()\n",
    "ax.figure.tight_layout()\n",
    "plt.savefig('romanticist_raw_freqs.png', dpi=300)\n"
   ]
  },
  {
   "cell_type": "code",
   "execution_count": null,
   "id": "40f4b108",
   "metadata": {
    "scrolled": true
   },
   "outputs": [],
   "source": [
    "real_grouped_with_freq_sums.sort_values(by='frequency')[-30:].plot.barh(y='frequency', x='label', \n",
    "                                                                        title='top realist locations')\n",
    "ax = plt.gca()\n",
    "ax.figure.tight_layout()\n",
    "plt.savefig('realist_raw_freqs.png', dpi=300)"
   ]
  },
  {
   "cell_type": "markdown",
   "id": "e1b8f922",
   "metadata": {},
   "source": [
    "### Filter"
   ]
  },
  {
   "cell_type": "code",
   "execution_count": null,
   "id": "b3d1dd1d",
   "metadata": {},
   "outputs": [],
   "source": [
    "rom_grouped_with_freq_sums"
   ]
  },
  {
   "cell_type": "code",
   "execution_count": null,
   "id": "04dc06ef",
   "metadata": {},
   "outputs": [],
   "source": [
    "rom_grouped_with_freq_sums.query('label==\"Ростов\"')"
   ]
  },
  {
   "cell_type": "code",
   "execution_count": null,
   "id": "90d8f64d",
   "metadata": {},
   "outputs": [],
   "source": [
    "rom_grouped_with_freq_sums = rom_grouped_with_freq_sums.drop('57.18333_39.41667') ## ростов"
   ]
  },
  {
   "cell_type": "code",
   "execution_count": null,
   "id": "8f1bbfe8",
   "metadata": {},
   "outputs": [],
   "source": [
    "real_grouped_with_freq_sums = real_grouped_with_freq_sums.drop('57.18333_39.41667') ## ростов"
   ]
  },
  {
   "cell_type": "code",
   "execution_count": null,
   "id": "4342c5d7",
   "metadata": {},
   "outputs": [],
   "source": [
    "real_grouped_with_freq_sums = real_grouped_with_freq_sums.drop('56.32694_44.0075')# нижний"
   ]
  },
  {
   "cell_type": "code",
   "execution_count": null,
   "id": "65eb500c",
   "metadata": {},
   "outputs": [],
   "source": [
    "#real_grouped_with_freq_sums = real_grouped_with_freq_sums.drop('59.76_30.55') # ижорского\n",
    "rom_grouped_with_freq_sums = rom_grouped_with_freq_sums.drop('59.76_30.55') # ижорского"
   ]
  },
  {
   "cell_type": "markdown",
   "id": "67590f97",
   "metadata": {},
   "source": [
    "### Add relative freqs"
   ]
  },
  {
   "cell_type": "markdown",
   "id": "c0ebc15b",
   "metadata": {},
   "source": [
    "#### romanicism"
   ]
  },
  {
   "cell_type": "code",
   "execution_count": null,
   "id": "e1da312c",
   "metadata": {},
   "outputs": [],
   "source": [
    "rom_grouped_with_freq_sums"
   ]
  },
  {
   "cell_type": "code",
   "execution_count": null,
   "id": "1a94c7f6",
   "metadata": {},
   "outputs": [],
   "source": [
    "rom_grouped_with_freq_sums['rel_freq'] = rom_grouped_with_freq_sums['frequency']/rom_grouped_with_freq_sums['frequency'].sum()"
   ]
  },
  {
   "cell_type": "markdown",
   "id": "66614b55",
   "metadata": {},
   "source": [
    "#### realism"
   ]
  },
  {
   "cell_type": "code",
   "execution_count": null,
   "id": "ee172f3e",
   "metadata": {},
   "outputs": [],
   "source": [
    "real_grouped_with_freq_sums['rel_freq'] = real_grouped_with_freq_sums['frequency']/real_grouped_with_freq_sums['frequency'].sum()"
   ]
  },
  {
   "cell_type": "code",
   "execution_count": null,
   "id": "489313a4",
   "metadata": {},
   "outputs": [],
   "source": [
    "real_grouped_with_freq_sums"
   ]
  },
  {
   "cell_type": "markdown",
   "id": "7400c538",
   "metadata": {},
   "source": [
    "### Add Eng Labels"
   ]
  },
  {
   "cell_type": "code",
   "execution_count": null,
   "id": "1f4a54cf",
   "metadata": {},
   "outputs": [],
   "source": [
    "rom_to_plot = rom_grouped_with_freq_sums.sort_values(by='frequency')[-30:]"
   ]
  },
  {
   "cell_type": "code",
   "execution_count": null,
   "id": "2bb0bb28",
   "metadata": {},
   "outputs": [],
   "source": [
    "real_to_plot = real_grouped_with_freq_sums.sort_values(by='frequency')[-30:]"
   ]
  },
  {
   "cell_type": "code",
   "execution_count": null,
   "id": "727b528e",
   "metadata": {},
   "outputs": [],
   "source": [
    "real_to_plot"
   ]
  },
  {
   "cell_type": "code",
   "execution_count": null,
   "id": "eca9a26c",
   "metadata": {},
   "outputs": [],
   "source": [
    "list(rom_to_plot['label'])"
   ]
  },
  {
   "cell_type": "code",
   "execution_count": null,
   "id": "ede02e7e",
   "metadata": {},
   "outputs": [],
   "source": [
    "rom_eng_labels = [\n",
    "     'Red Square',\n",
    "'Krakow',\n",
    " 'Zaporizhzhia',\n",
    " 'Nizhny Novgorod',\n",
    " 'Constantinople',\n",
    " 'Moscow River',\n",
    " 'Germany',\n",
    " 'Derbent',\n",
    "     'Uglich',\n",
    " 'Poltava',\n",
    " 'Volga',\n",
    " 'Sweden',\n",
    " 'Tver',\n",
    " 'Lithuania',\n",
    " 'Orenburg',\n",
    " 'Rome',\n",
    " 'France',\n",
    "     'Smolensk',\n",
    " 'Neva',\n",
    " 'Siberia',\n",
    " 'Italy',\n",
    " 'Paris',\n",
    " 'Ukraine',\n",
    " 'Dnipro',\n",
    " 'Novgorod',\n",
    " 'Kyiv',\n",
    " 'Poland',\n",
    " 'Petersburg',\n",
    " 'Russia',\n",
    "'Moscow']"
   ]
  },
  {
   "cell_type": "code",
   "execution_count": null,
   "id": "658ecdf3",
   "metadata": {},
   "outputs": [],
   "source": [
    "rom_to_plot['label eng'] = rom_eng_labels"
   ]
  },
  {
   "cell_type": "code",
   "execution_count": null,
   "id": "19f410a9",
   "metadata": {},
   "outputs": [],
   "source": [
    "rom_to_plot"
   ]
  },
  {
   "cell_type": "code",
   "execution_count": null,
   "id": "d631d2c0",
   "metadata": {},
   "outputs": [],
   "source": [
    "rom_to_plot['label bilingual'] = rom_to_plot['label eng'] + ' (' + rom_to_plot['label'] + ')'"
   ]
  },
  {
   "cell_type": "code",
   "execution_count": null,
   "id": "a87f0e09",
   "metadata": {},
   "outputs": [],
   "source": [
    "rom_to_plot['label bilingual']"
   ]
  },
  {
   "cell_type": "code",
   "execution_count": null,
   "id": "a3dee512",
   "metadata": {},
   "outputs": [],
   "source": [
    "def add_bilingual_labels(df, eng_labels):\n",
    "    df['label eng'] = eng_labels\n",
    "    df['label bilingual'] = df['label eng'] + ' (' + df['label'] + ')'"
   ]
  },
  {
   "cell_type": "code",
   "execution_count": null,
   "id": "fa9e46fa",
   "metadata": {},
   "outputs": [],
   "source": [
    "list(real_to_plot['label'])"
   ]
  },
  {
   "cell_type": "code",
   "execution_count": null,
   "id": "72fef472",
   "metadata": {},
   "outputs": [],
   "source": [
    "real_eng_labels = ['Switzerland',\n",
    " 'Sweden',\n",
    " 'Dnipro',\n",
    " 'Berlin',\n",
    " 'Riga',\n",
    " 'London',\n",
    " 'Constantinople',\n",
    " 'Türkiye',\n",
    " 'Vienna',\n",
    " 'Crimea',\n",
    " 'Smolensk',\n",
    " 'Astrakhan',\n",
    " 'Neva',\n",
    " 'Germany',\n",
    " 'Sevastopol',\n",
    " 'England',\n",
    " 'Lithuania',\n",
    " 'Kyiv',\n",
    " 'Novgorod',\n",
    " 'Italy',\n",
    " 'Kazan',\n",
    " 'France',\n",
    " 'Volga',\n",
    " 'Rome',\n",
    " 'Poland',\n",
    " 'Siberia',\n",
    " 'Paris',\n",
    " 'Russia',\n",
    " 'Petersburg',\n",
    " 'Moscow']"
   ]
  },
  {
   "cell_type": "code",
   "execution_count": null,
   "id": "d717c9db",
   "metadata": {},
   "outputs": [],
   "source": [
    "add_bilingual_labels(real_to_plot, real_eng_labels)"
   ]
  },
  {
   "cell_type": "code",
   "execution_count": null,
   "id": "86c39e47",
   "metadata": {},
   "outputs": [],
   "source": [
    "real_to_plot"
   ]
  },
  {
   "cell_type": "markdown",
   "id": "2a281086",
   "metadata": {},
   "source": [
    "### Produce final bar plots for the paper"
   ]
  },
  {
   "cell_type": "code",
   "execution_count": null,
   "id": "69007fde",
   "metadata": {},
   "outputs": [],
   "source": [
    "real_to_plot['raw_frequency'] = real_to_plot['frequency']"
   ]
  },
  {
   "cell_type": "code",
   "execution_count": null,
   "id": "a42b9eba",
   "metadata": {},
   "outputs": [],
   "source": [
    "rom_to_plot['raw_frequency'] = rom_to_plot['frequency']"
   ]
  },
  {
   "cell_type": "code",
   "execution_count": null,
   "id": "6dc2c825",
   "metadata": {},
   "outputs": [],
   "source": [
    "def plot_barh_viz(df, x='label', title='title', filename='someviz'):\n",
    "    df.plot.barh(y='raw_frequency', x=x, title=title, figsize=(8,6))\n",
    "    ax = plt.gca()\n",
    "    ax.figure.tight_layout()\n",
    "    plt.savefig(f'{filename}.png', dpi=300)\n",
    "    \n",
    "    "
   ]
  },
  {
   "cell_type": "code",
   "execution_count": null,
   "id": "fed30572",
   "metadata": {},
   "outputs": [],
   "source": [
    "plot_barh_viz(real_to_plot, x='label bilingual', title = 'top realist locations', \n",
    "              filename = 'top realist locations translated chr')"
   ]
  },
  {
   "cell_type": "code",
   "execution_count": null,
   "id": "c688936b",
   "metadata": {},
   "outputs": [],
   "source": [
    "plot_barh_viz(rom_to_plot, x='label bilingual', title = 'top romanticist locations', \n",
    "              filename = 'top romanticist locations translated chr')"
   ]
  },
  {
   "cell_type": "markdown",
   "id": "be330bec",
   "metadata": {},
   "source": [
    "### relative freqs"
   ]
  },
  {
   "cell_type": "code",
   "execution_count": null,
   "id": "2756e30a",
   "metadata": {},
   "outputs": [],
   "source": [
    "def plot_barh_viz(df, x='label', title='title', filename='someviz'):\n",
    "    df.plot.barh(y='rel_freq', x=x, title=title, figsize=(8,6))\n",
    "    ax = plt.gca()\n",
    "    ax.figure.tight_layout()\n",
    "    ax.set_ylabel(\"\")\n",
    "    plt.savefig(f'{filename}.png', dpi=300)\n",
    "    \n",
    "    "
   ]
  },
  {
   "cell_type": "code",
   "execution_count": null,
   "id": "0dbd4c5e",
   "metadata": {},
   "outputs": [],
   "source": [
    "plot_barh_viz(real_to_plot[-20:], x='label bilingual', title = '20 most frequent locations of realism', \n",
    "              filename = 'top realist locations translated chr 20')"
   ]
  },
  {
   "cell_type": "code",
   "execution_count": null,
   "id": "43a1dc6a",
   "metadata": {},
   "outputs": [],
   "source": [
    "plot_barh_viz(rom_to_plot[-20:], x='label bilingual', title = '20 most frequent locations of romanticism', \n",
    "              filename = 'top romanticist locations translated chr 20')"
   ]
  },
  {
   "cell_type": "markdown",
   "id": "9fabc5f9",
   "metadata": {},
   "source": [
    "## 4. Heatmap of relative frequencies"
   ]
  },
  {
   "cell_type": "code",
   "execution_count": null,
   "id": "dc3c545e",
   "metadata": {},
   "outputs": [],
   "source": [
    "rom_grouped_with_freq_sums"
   ]
  },
  {
   "cell_type": "code",
   "execution_count": null,
   "id": "8c044a87",
   "metadata": {},
   "outputs": [],
   "source": [
    "rom_grouped_with_freq_sums['lat'] = rom_grouped_with_freq_sums['lat'].astype(float)"
   ]
  },
  {
   "cell_type": "code",
   "execution_count": null,
   "id": "5e3ed045",
   "metadata": {},
   "outputs": [],
   "source": [
    "rom_grouped_with_freq_sums['long'] = rom_grouped_with_freq_sums['long'].astype(float)"
   ]
  },
  {
   "cell_type": "code",
   "execution_count": null,
   "id": "083c4e07",
   "metadata": {},
   "outputs": [],
   "source": [
    "# Create a base map centered at the mean location\n",
    "m = folium.Map(location=[rom_grouped_with_freq_sums[\"lat\"].mean(),\n",
    "                         rom_grouped_with_freq_sums[\"long\"].mean()], zoom_start=10)"
   ]
  },
  {
   "cell_type": "code",
   "execution_count": null,
   "id": "9d71449d",
   "metadata": {},
   "outputs": [],
   "source": [
    "# Prepare heatmap data: [[lat, lon, weight], ...]\n",
    "heat_data = rom_grouped_with_freq_sums[[\"lat\", \"long\", \"rel_freq\"]].values.tolist()"
   ]
  },
  {
   "cell_type": "code",
   "execution_count": null,
   "id": "6d93e991",
   "metadata": {},
   "outputs": [],
   "source": [
    "# Add heatmap layer\n",
    "HeatMap(heat_data).add_to(m)"
   ]
  },
  {
   "cell_type": "code",
   "execution_count": null,
   "id": "fbb253d9",
   "metadata": {},
   "outputs": [],
   "source": [
    "# Save map as HTML file\n",
    "m.save(\"romanticism_heatmap.html\")"
   ]
  },
  {
   "cell_type": "markdown",
   "id": "ca95ea8e",
   "metadata": {},
   "source": [
    "#### realist heatmap"
   ]
  },
  {
   "cell_type": "code",
   "execution_count": null,
   "id": "fa8107d6",
   "metadata": {},
   "outputs": [],
   "source": [
    "real_grouped_with_freq_sums"
   ]
  },
  {
   "cell_type": "code",
   "execution_count": null,
   "id": "33ba8de4",
   "metadata": {},
   "outputs": [],
   "source": [
    "real_grouped_with_freq_sums['long'] = real_grouped_with_freq_sums['long'].astype(float)"
   ]
  },
  {
   "cell_type": "code",
   "execution_count": null,
   "id": "55fd83b6",
   "metadata": {},
   "outputs": [],
   "source": [
    "real_grouped_with_freq_sums['lat'] = real_grouped_with_freq_sums['lat'].astype(float)"
   ]
  },
  {
   "cell_type": "markdown",
   "id": "12ac6c33",
   "metadata": {},
   "source": [
    "### subset"
   ]
  },
  {
   "cell_type": "code",
   "execution_count": null,
   "id": "ea7dbf37",
   "metadata": {},
   "outputs": [],
   "source": [
    "real_heat = real_grouped_with_freq_sums[real_grouped_with_freq_sums['frequency']>10]"
   ]
  },
  {
   "cell_type": "code",
   "execution_count": null,
   "id": "e0f04b8a",
   "metadata": {},
   "outputs": [],
   "source": [
    "# Create a base map centered at the mean location\n",
    "m = folium.Map(location=[real_heat[\"lat\"].mean(),\n",
    "                         real_heat[\"long\"].mean()], zoom_start=10)"
   ]
  },
  {
   "cell_type": "code",
   "execution_count": null,
   "id": "ade6fdae",
   "metadata": {},
   "outputs": [],
   "source": [
    "# Prepare heatmap data: [[lat, lon, weight], ...]\n",
    "heat_data = real_heat[[\"lat\", \"long\", \"rel_freq\"]].values.tolist()"
   ]
  },
  {
   "cell_type": "code",
   "execution_count": null,
   "id": "ce3b3baa",
   "metadata": {},
   "outputs": [],
   "source": [
    "# Add heatmap layer\n",
    "HeatMap(heat_data, radius=17).add_to(m) # "
   ]
  },
  {
   "cell_type": "code",
   "execution_count": null,
   "id": "8e66d994",
   "metadata": {},
   "outputs": [],
   "source": [
    "# Save map as HTML file\n",
    "m.save(\"realism_heatmap.html\")"
   ]
  },
  {
   "cell_type": "code",
   "execution_count": null,
   "id": "b3000bb2",
   "metadata": {},
   "outputs": [],
   "source": [
    "rom_heat = rom_grouped_with_freq_sums[rom_grouped_with_freq_sums['frequency']>10]"
   ]
  },
  {
   "cell_type": "code",
   "execution_count": null,
   "id": "fc056bcd",
   "metadata": {},
   "outputs": [],
   "source": [
    "# Create a base map centered at the mean location\n",
    "m = folium.Map(location=[rom_heat[\"lat\"].mean(),\n",
    "                         rom_heat[\"long\"].mean()], zoom_start=10)"
   ]
  },
  {
   "cell_type": "code",
   "execution_count": null,
   "id": "54660f11",
   "metadata": {},
   "outputs": [],
   "source": [
    "# Prepare heatmap data: [[lat, lon, weight], ...]\n",
    "heat_data = rom_heat[[\"lat\", \"long\", \"rel_freq\"]].values.tolist()"
   ]
  },
  {
   "cell_type": "code",
   "execution_count": null,
   "id": "f8db287b",
   "metadata": {},
   "outputs": [],
   "source": [
    "# Add heatmap layer\n",
    "HeatMap(heat_data, radius=20).add_to(m) # "
   ]
  },
  {
   "cell_type": "code",
   "execution_count": null,
   "id": "6ffdea5c",
   "metadata": {},
   "outputs": [],
   "source": [
    "# Save map as HTML file\n",
    "m.save(\"romanticism_heatmap.html\")"
   ]
  },
  {
   "cell_type": "markdown",
   "id": "1254e73c",
   "metadata": {},
   "source": [
    "## 5. Measure delta from romanticism to realism for each location"
   ]
  },
  {
   "cell_type": "markdown",
   "id": "ce974c1e",
   "metadata": {},
   "source": [
    "### merge both datasets:"
   ]
  },
  {
   "cell_type": "code",
   "execution_count": null,
   "id": "ce5b73fc",
   "metadata": {},
   "outputs": [],
   "source": [
    "real_rom_freqs = pd.merge(real_grouped_with_freq_sums, rom_grouped_with_freq_sums, how='outer', \n",
    "                          suffixes=('_real', '_rom'), \n",
    "                          left_index=True, right_index=True)"
   ]
  },
  {
   "cell_type": "code",
   "execution_count": null,
   "id": "a0f8098e",
   "metadata": {},
   "outputs": [],
   "source": [
    "real_rom_freqs"
   ]
  },
  {
   "cell_type": "code",
   "execution_count": null,
   "id": "5a3c808f",
   "metadata": {},
   "outputs": [],
   "source": [
    "real_rom_freqs = real_rom_freqs.fillna(0)"
   ]
  },
  {
   "cell_type": "code",
   "execution_count": null,
   "id": "05704203",
   "metadata": {},
   "outputs": [],
   "source": [
    "real_rom_freqs['delta_rom_to_real'] =  real_rom_freqs['rel_freq_rom'] - real_rom_freqs['rel_freq_real']"
   ]
  },
  {
   "cell_type": "code",
   "execution_count": null,
   "id": "ae2f8286",
   "metadata": {},
   "outputs": [],
   "source": [
    "real_rom_freqs['delta_real_to_rom'] =  real_rom_freqs['rel_freq_real'] - real_rom_freqs['rel_freq_rom']"
   ]
  },
  {
   "cell_type": "code",
   "execution_count": null,
   "id": "cf34710c",
   "metadata": {},
   "outputs": [],
   "source": [
    "real_rom_freqs.sort_values(by='delta_real_to_rom')"
   ]
  },
  {
   "cell_type": "code",
   "execution_count": null,
   "id": "6373ca20",
   "metadata": {},
   "outputs": [],
   "source": [
    "real_rom_freqs.sort_values(by='delta_real_to_rom')[:30]"
   ]
  },
  {
   "cell_type": "code",
   "execution_count": null,
   "id": "43994740",
   "metadata": {},
   "outputs": [],
   "source": [
    "### Filter out Ижорский (surname in our contexts)  \n",
    "real_rom_freqs = real_rom_freqs.drop('59.76_30.55')"
   ]
  },
  {
   "cell_type": "markdown",
   "id": "e51ea468",
   "metadata": {},
   "source": [
    "### romantic delta champions"
   ]
  },
  {
   "cell_type": "code",
   "execution_count": null,
   "id": "6ae1f32a",
   "metadata": {},
   "outputs": [],
   "source": [
    "real_rom_freqs.sort_values(by='delta_real_to_rom')[:30][['delta_real_to_rom', \n",
    "                                                                          'rel_freq_rom', \n",
    "                                                                          'rel_freq_real', 'label_rom']]"
   ]
  },
  {
   "cell_type": "code",
   "execution_count": null,
   "id": "e0bfa2f8",
   "metadata": {},
   "outputs": [],
   "source": [
    "top_rom_delta = real_rom_freqs.sort_values(by='delta_real_to_rom', ascending=False)[-30:][['delta_real_to_rom', \n",
    "                                                                          'frequency_rom', \n",
    "                                                                          'frequency_real', 'label_rom']]"
   ]
  },
  {
   "cell_type": "code",
   "execution_count": null,
   "id": "4f2de7f7",
   "metadata": {},
   "outputs": [],
   "source": [
    "top_rom_delta"
   ]
  },
  {
   "cell_type": "code",
   "execution_count": null,
   "id": "fcf71b41",
   "metadata": {},
   "outputs": [],
   "source": [
    "top_rom_delta"
   ]
  },
  {
   "cell_type": "code",
   "execution_count": null,
   "id": "48b875d6",
   "metadata": {},
   "outputs": [],
   "source": [
    "list(top_rom_delta['label_rom'])"
   ]
  },
  {
   "cell_type": "code",
   "execution_count": null,
   "id": "6780a901",
   "metadata": {},
   "outputs": [],
   "source": [
    "rom_delta_eng_labels = ['Leipzig',\n",
    " 'Ringen',\n",
    " 'Zimogorye',\n",
    " 'Kolomenskoye',\n",
    " 'Pereyaslavl',\n",
    " 'Neuhausen',\n",
    " 'Swallow\\'s Nest',\n",
    " 'Red Square',\n",
    " 'Pochayny',\n",
    " 'Krakow',\n",
    " 'Narva',\n",
    " 'Moscow River',\n",
    " 'Sweden',\n",
    " 'Baturin',\n",
    " 'Tver',\n",
    " 'Zaporizhzhia',\n",
    " 'Orenburg',\n",
    " 'Neva',\n",
    " 'Poltava',\n",
    " 'Smolensk',\n",
    " 'Nizhny Novgorod',\n",
    " 'Uglich',\n",
    " 'Derbent',\n",
    " 'Ukraine',\n",
    " 'Novgorod',\n",
    " 'Moscow',\n",
    " 'Russia',\n",
    " 'Dnipro',\n",
    " 'Poland',\n",
    " 'Kyiv']"
   ]
  },
  {
   "cell_type": "code",
   "execution_count": null,
   "id": "daa58e73",
   "metadata": {},
   "outputs": [],
   "source": [
    "def add_bilingual_labels(df, eng_labels, rus_labels):\n",
    "    df['label eng'] = eng_labels\n",
    "    df['label'] = rus_labels\n",
    "    df['label bilingual'] = df['label eng'] + ' (' + df['label'] + ')'"
   ]
  },
  {
   "cell_type": "code",
   "execution_count": null,
   "id": "80470b28",
   "metadata": {},
   "outputs": [],
   "source": [
    "add_bilingual_labels(top_rom_delta, rom_delta_eng_labels, top_rom_delta['label_rom'])"
   ]
  },
  {
   "cell_type": "code",
   "execution_count": null,
   "id": "46a3d55d",
   "metadata": {},
   "outputs": [],
   "source": [
    "top_rom_delta"
   ]
  },
  {
   "cell_type": "code",
   "execution_count": null,
   "id": "a02519c2",
   "metadata": {},
   "outputs": [],
   "source": [
    "top_rom_delta"
   ]
  },
  {
   "cell_type": "code",
   "execution_count": null,
   "id": "d9ea7544",
   "metadata": {},
   "outputs": [],
   "source": [
    "top_rom_delta[-20:].plot.barh(y='delta_real_to_rom',x='label bilingual',  \n",
    "                        title='romanticism to realism biggest loss',\n",
    "                       figsize=(8,6))\n",
    "                                                                       \n",
    "ax = plt.gca()\n",
    "ax.figure.tight_layout()\n",
    "ax.set_ylabel(\"\")\n",
    "plt.savefig('romanticism to realism biggest loss translated chr 20.png', dpi=300)"
   ]
  },
  {
   "cell_type": "markdown",
   "id": "9160d4be",
   "metadata": {},
   "source": [
    "### realist delta champions"
   ]
  },
  {
   "cell_type": "code",
   "execution_count": null,
   "id": "b5f9df70",
   "metadata": {},
   "outputs": [],
   "source": [
    "real_rom_freqs.sort_values(by='delta_real_to_rom', ascending=False)[:30][['delta_real_to_rom', \n",
    "                                                                          'rel_freq_rom', \n",
    "                                                                          'rel_freq_real',\n",
    "                                                                         'label_real']]"
   ]
  },
  {
   "cell_type": "code",
   "execution_count": null,
   "id": "ba034f05",
   "metadata": {},
   "outputs": [],
   "source": [
    "real_rom_freqs = real_rom_freqs.query('not label_real.isin([\"Ростов\"])')"
   ]
  },
  {
   "cell_type": "code",
   "execution_count": null,
   "id": "b1943115",
   "metadata": {},
   "outputs": [],
   "source": [
    "top_real_delta = real_rom_freqs.sort_values(by='delta_real_to_rom')[-30:][['delta_real_to_rom', \n",
    "                                                                          'frequency_rom', \n",
    "                                                                          'frequency_real',\n",
    "                                                                         'label_real']]"
   ]
  },
  {
   "cell_type": "code",
   "execution_count": null,
   "id": "007b5303",
   "metadata": {},
   "outputs": [],
   "source": [
    "top_real_delta"
   ]
  },
  {
   "cell_type": "code",
   "execution_count": null,
   "id": "952c6d0d",
   "metadata": {},
   "outputs": [],
   "source": [
    "top_real_delta.loc['59.56841_30.122892', 'label_real']"
   ]
  },
  {
   "cell_type": "code",
   "execution_count": null,
   "id": "50dbb1b0",
   "metadata": {},
   "outputs": [],
   "source": [
    "top_real_delta.loc['59.56841_30.122892', 'label_real'] = 'Гатчина'"
   ]
  },
  {
   "cell_type": "markdown",
   "id": "202db766",
   "metadata": {},
   "source": [
    "#### Add eng labels (4th time)"
   ]
  },
  {
   "cell_type": "code",
   "execution_count": null,
   "id": "337d4491",
   "metadata": {},
   "outputs": [],
   "source": [
    "list(top_real_delta['label_real'])"
   ]
  },
  {
   "cell_type": "code",
   "execution_count": null,
   "id": "b66db8b3",
   "metadata": {},
   "outputs": [],
   "source": [
    "real_delta_eng_labels = ['Oranienbaum',\n",
    "                         'Ufa',\n",
    " 'Geneva',\n",
    " 'Vasilievsky Island',\n",
    " 'Bulgaria',\n",
    " 'Switzerland',\n",
    " 'Naples',\n",
    " 'Winter Palace',\n",
    " 'Saratov',\n",
    " 'Ural',\n",
    " 'Crimea',\n",
    "  'Gatchina',\n",
    " 'Riga',\n",
    " 'Odesa',\n",
    " 'Peterhof',\n",
    " 'Oka',\n",
    " 'Austria',\n",
    " 'Türkiye',\n",
    " 'Vienna',\n",
    " 'Berlin',\n",
    " 'England',\n",
    " 'Astrakhan',\n",
    " 'France',\n",
    " 'Sevastopol',\n",
    " 'Rome',\n",
    " 'Kazan',\n",
    " 'Volga',\n",
    " 'Siberia',\n",
    " 'Paris',\n",
    " 'Petersburg']"
   ]
  },
  {
   "cell_type": "code",
   "execution_count": null,
   "id": "10caf5a9",
   "metadata": {},
   "outputs": [],
   "source": [
    "add_bilingual_labels(top_real_delta, real_delta_eng_labels, top_real_delta['label_real'])"
   ]
  },
  {
   "cell_type": "code",
   "execution_count": null,
   "id": "62947ffc",
   "metadata": {},
   "outputs": [],
   "source": [
    "top_real_delta"
   ]
  },
  {
   "cell_type": "markdown",
   "id": "79ddc9fa",
   "metadata": {},
   "source": [
    "#### Plot"
   ]
  },
  {
   "cell_type": "code",
   "execution_count": null,
   "id": "a8e3deb4",
   "metadata": {},
   "outputs": [],
   "source": [
    "top_real_delta.plot.barh(y='delta_real_to_rom',x='label bilingual', \n",
    "                         title='romanticism to realism: biggest gain',\n",
    "                        figsize=(8,6))\n",
    "                                                                       \n",
    "ax = plt.gca()\n",
    "ax.figure.tight_layout()\n",
    "plt.savefig('romanticism to realism biggest gain translated chr.png', dpi=300)"
   ]
  },
  {
   "cell_type": "code",
   "execution_count": null,
   "id": "22372414",
   "metadata": {},
   "outputs": [],
   "source": [
    "top_real_delta[-20:].plot.barh(y='delta_real_to_rom',x='label bilingual', \n",
    "                         title='older to newer:biggest gain',\n",
    "                        figsize=(6,4))\n",
    "                                                                       \n",
    "ax = plt.gca()\n",
    "ax.figure.tight_layout()\n",
    "plt.savefig('romanticism to realism biggest gain translated chr 25.png', dpi=300)"
   ]
  },
  {
   "cell_type": "code",
   "execution_count": null,
   "id": "faffe9a4",
   "metadata": {},
   "outputs": [],
   "source": [
    "top_rom_delta[-20:].plot.barh(y='delta_real_to_rom',x='label bilingual', \n",
    "                         title='older to newer:biggest gain',\n",
    "                        figsize=(6,4))\n",
    "                                                                       \n",
    "ax = plt.gca()\n",
    "ax.figure.tight_layout()\n",
    "plt.savefig('romanticism to realism biggest loss translated chr 25.png', dpi=300)"
   ]
  },
  {
   "cell_type": "code",
   "execution_count": null,
   "id": "7cb499ba",
   "metadata": {},
   "outputs": [],
   "source": [
    "top_real_delta[-20:].plot.barh(y='delta_real_to_rom',x='label bilingual',  \n",
    "                        title='romanticism to realism biggest gain',\n",
    "                       figsize=(8,6))\n",
    "                                                                       \n",
    "ax = plt.gca()\n",
    "ax.figure.tight_layout()\n",
    "ax.set_ylabel(\"\")\n",
    "plt.savefig('romanticism to realism biggest gain translated chr 20.png', dpi=300)"
   ]
  },
  {
   "cell_type": "markdown",
   "id": "492e0664",
   "metadata": {},
   "source": [
    "### 5. Plot Bubble map with top 20 winners and losers (plotting figure 4)"
   ]
  },
  {
   "cell_type": "code",
   "execution_count": null,
   "id": "81bf1c51",
   "metadata": {},
   "outputs": [],
   "source": [
    "top_real_delta[-20:]"
   ]
  },
  {
   "cell_type": "code",
   "execution_count": null,
   "id": "bac48fcd",
   "metadata": {},
   "outputs": [],
   "source": [
    "real_rom_freqs.sort_values(by='delta_real_to_rom')[:20]"
   ]
  },
  {
   "cell_type": "code",
   "execution_count": null,
   "id": "b88f1ca4",
   "metadata": {},
   "outputs": [],
   "source": [
    "forbubble = real_rom_freqs.sort_values(by='delta_real_to_rom')[:21]"
   ]
  },
  {
   "cell_type": "code",
   "execution_count": null,
   "id": "9c80a5dc",
   "metadata": {},
   "outputs": [],
   "source": [
    "# drop Russia as a whole, makes no sense to put it in the Geo center of Russia\n",
    "forbubble = forbubble.drop(\"66.0_94.0\") "
   ]
  },
  {
   "cell_type": "code",
   "execution_count": null,
   "id": "fa318780",
   "metadata": {},
   "outputs": [],
   "source": [
    "forbubble_real = real_rom_freqs.sort_values(by='delta_real_to_rom', ascending=False)[:20]"
   ]
  },
  {
   "cell_type": "code",
   "execution_count": null,
   "id": "bd3058ab",
   "metadata": {},
   "outputs": [],
   "source": [
    "forbubble_real"
   ]
  },
  {
   "cell_type": "code",
   "execution_count": null,
   "id": "d32bb6bc",
   "metadata": {},
   "outputs": [],
   "source": [
    "m = folium.Map(location=[forbubble[\"lat_real\"].mean(), forbubble[\"lat_real\"].mean()], zoom_start=10)\n",
    "\n",
    "for _, row in forbubble.iterrows():\n",
    "    folium.CircleMarker(\n",
    "        location=[row[\"lat_rom\"], row[\"long_rom\"]],\n",
    "        radius=17,  # Scale bubble size\n",
    "        color=\"black\",  # Outline color\n",
    "        fill=True,\n",
    "        fill_color=\"blue\",  # Inside color\n",
    "        fill_opacity=0.7,  # Transparency\n",
    "        popup=f\"Place: {row['label_rom']}\"  # Show frequency on click\n",
    "    ).add_to(m)\n",
    "    \n",
    "for _, row in forbubble_real.iterrows():\n",
    "    folium.CircleMarker(\n",
    "        location=[row[\"lat_real\"], row[\"long_real\"]],\n",
    "        radius=17,  # Scale bubble size\n",
    "        color=\"black\",  # Outline color\n",
    "        fill=True,\n",
    "        fill_color=\"red\",  # Inside color\n",
    "        fill_opacity=0.7,  # Transparency\n",
    "        popup=f\"Place: {row['label_real']}\"  # Show frequency on click\n",
    "    ).add_to(m)\n",
    "\n",
    "# Save map as HTML file\n",
    "m.save(\"bubble_map.html\")"
   ]
  }
 ],
 "metadata": {
  "kernelspec": {
   "display_name": "Python 3 (ipykernel)",
   "language": "python",
   "name": "python3"
  },
  "language_info": {
   "codemirror_mode": {
    "name": "ipython",
    "version": 3
   },
   "file_extension": ".py",
   "mimetype": "text/x-python",
   "name": "python",
   "nbconvert_exporter": "python",
   "pygments_lexer": "ipython3",
   "version": "3.9.13"
  }
 },
 "nbformat": 4,
 "nbformat_minor": 5
}
